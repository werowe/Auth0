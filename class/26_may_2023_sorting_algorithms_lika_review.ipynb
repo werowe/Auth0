{
  "cells": [
    {
      "cell_type": "markdown",
      "metadata": {
        "id": "view-in-github",
        "colab_type": "text"
      },
      "source": [
        "<a href=\"https://colab.research.google.com/github/werowe/Auth0/blob/main/class/26_may_2023_sorting_algorithms_lika_review.ipynb\" target=\"_parent\"><img src=\"https://colab.research.google.com/assets/colab-badge.svg\" alt=\"Open In Colab\"/></a>"
      ]
    },
    {
      "cell_type": "markdown",
      "id": "99b4fba4",
      "metadata": {
        "id": "99b4fba4"
      },
      "source": [
        "'''\n",
        "algorithm\n",
        "\n",
        "\n",
        "examples:\n",
        "\n",
        "rotate graphics on a screen\n",
        "\n",
        "convert 3 dimensional 3D coordinates (like a animal) to 2D coordinate (like a screen)\n",
        "\n",
        "\n",
        "sorting\n",
        "\n",
        "\n",
        "'''"
      ]
    },
    {
      "cell_type": "code",
      "execution_count": null,
      "id": "d418f660",
      "metadata": {
        "id": "d418f660"
      },
      "outputs": [],
      "source": []
    },
    {
      "cell_type": "code",
      "execution_count": null,
      "id": "6ca73591",
      "metadata": {
        "id": "6ca73591"
      },
      "outputs": [],
      "source": []
    },
    {
      "cell_type": "code",
      "execution_count": null,
      "id": "424ffc14",
      "metadata": {
        "id": "424ffc14"
      },
      "outputs": [],
      "source": [
        "import random\n",
        "\n",
        "# a set\n",
        "numbers=set()\n",
        "\n",
        "# difference between a list and a set() is a set does not allow duplicate numbers\n",
        "\n",
        "for i in range(10):\n",
        "  numbers.add(random.randint(1,10))\n",
        "\n",
        "print(numbers)\n",
        "\n",
        "print(len(numbers))"
      ]
    },
    {
      "cell_type": "code",
      "execution_count": null,
      "id": "16f9030f",
      "metadata": {
        "id": "16f9030f"
      },
      "outputs": [],
      "source": [
        "'''\n",
        "Is 1 < 3   \n",
        "if yes then do nothing\n",
        "\n",
        "but if false then switch them\n",
        "\n",
        "'''\n",
        "numbers[0]\n"
      ]
    },
    {
      "cell_type": "code",
      "execution_count": null,
      "id": "49c3618c",
      "metadata": {
        "id": "49c3618c"
      },
      "outputs": [],
      "source": []
    },
    {
      "cell_type": "code",
      "execution_count": 9,
      "id": "9a9298cc",
      "metadata": {
        "colab": {
          "base_uri": "https://localhost:8080/"
        },
        "id": "9a9298cc",
        "outputId": "72690be4-b330-4695-d3ce-2998f3688c42"
      },
      "outputs": [
        {
          "output_type": "stream",
          "name": "stdout",
          "text": [
            "[9, 5, 2, 8, 7, 6, 3, 3, 1, 6]\n",
            "10\n"
          ]
        }
      ],
      "source": [
        "import random\n",
        "\n",
        "# a list\n",
        "numbers=[]\n",
        "\n",
        "# difference between a list and a set() is a set does not allow duplicate numbers\n",
        "\n",
        "for i in range(10):\n",
        "  numbers.append(random.randint(1,10))\n",
        "\n",
        "print(numbers)\n",
        "\n",
        "print(len(numbers))\n",
        "\n"
      ]
    },
    {
      "cell_type": "code",
      "source": [
        "# look at the numbers in pairs\n",
        "\n",
        "# like 9 and 5 \n",
        "\n",
        "# check is 9 < 5\n",
        "\n",
        "\n",
        "if 9<5:\n",
        "  1==1\n",
        "else:\n",
        "  temporary = 9\n",
        "  numbers[0] = 5\n",
        "  numbers[1] = temporary\n",
        "\n",
        "print(numbers)  \n",
        "\n"
      ],
      "metadata": {
        "colab": {
          "base_uri": "https://localhost:8080/"
        },
        "id": "o6-QzB1s_D0Z",
        "outputId": "f1b5bc43-bd22-4eb9-8a52-caea07eee8b4"
      },
      "id": "o6-QzB1s_D0Z",
      "execution_count": 15,
      "outputs": [
        {
          "output_type": "stream",
          "name": "stdout",
          "text": [
            "[5, 9, 2, 8, 7, 6, 3, 3, 1, 6]\n"
          ]
        }
      ]
    },
    {
      "cell_type": "code",
      "source": [
        "1==1"
      ],
      "metadata": {
        "colab": {
          "base_uri": "https://localhost:8080/"
        },
        "id": "v7ykU1Mj_heg",
        "outputId": "09de7ffd-7e57-4f41-fd5a-44a42ec9b258"
      },
      "id": "v7ykU1Mj_heg",
      "execution_count": 14,
      "outputs": [
        {
          "output_type": "execute_result",
          "data": {
            "text/plain": [
              "True"
            ]
          },
          "metadata": {},
          "execution_count": 14
        }
      ]
    },
    {
      "cell_type": "code",
      "execution_count": null,
      "id": "04b177bd",
      "metadata": {
        "id": "04b177bd"
      },
      "outputs": [],
      "source": [
        "# is 8 less than 4\n",
        "\n",
        "\n",
        "# is backwards.  it is not sorted.  to sort is means to do what?\n",
        "\n",
        "(8,4)\n",
        "\n",
        "print(numbers[0])\n",
        "print(numbers[1])\n",
        "\n",
        "print(numbers[0] < numbers[1])\n",
        "\n",
        "print(8<4)\n",
        "\n",
        "print(\"the unsorted numbers list is \", numbers)\n",
        "\n",
        "(1,2,3,4,5,6,7)\n",
        "\n",
        "print(\"is this sorted?\", 2 < 1 < 3 <4 < 5< 6 < 7 )\n",
        "\n",
        "(8,4)\n",
        "\n",
        "(4,8)\n",
        "\n",
        "print(\" is this less than the other \", \"sofia\" < \"sophia\")\n",
        "\n",
        "# alphabetic orders\n",
        "\n",
        "\n",
        "'''\n",
        "\" sorted in alphabetical order\"\n",
        "a,b,c,d,e,f,g,h,i\n",
        "\n",
        "\" this not \"\n",
        "\"b\",\"a\",\"d\",\"g\",\"f\"\n",
        "\n",
        "\n",
        "\"so\"  == \"so\"\n",
        "\n",
        "'''\n",
        "\n",
        "print(\"whose name is first \", (\"sof\"  <  \"sop\"))\n",
        "\n",
        "\n",
        "\n"
      ]
    },
    {
      "cell_type": "code",
      "source": [],
      "metadata": {
        "id": "pHsR1Mb2_B6U"
      },
      "id": "pHsR1Mb2_B6U",
      "execution_count": null,
      "outputs": []
    },
    {
      "cell_type": "code",
      "execution_count": null,
      "id": "9ad8039d",
      "metadata": {
        "id": "9ad8039d"
      },
      "outputs": [],
      "source": [
        "(\"joaquim\"  >  \"ilias\")"
      ]
    },
    {
      "cell_type": "code",
      "execution_count": null,
      "id": "433e3db1",
      "metadata": {
        "id": "433e3db1"
      },
      "outputs": [],
      "source": [
        "unsorted=[4,1,5]\n",
        "\n",
        "if unsorted[0]<unsorted[1]:\n",
        "  unsorted[1], unsorted[0] =  unsorted[0], unsorted[1]    \n",
        "\n",
        "print(unsorted)\n",
        "    "
      ]
    },
    {
      "cell_type": "code",
      "execution_count": null,
      "id": "a6124b60",
      "metadata": {
        "id": "a6124b60"
      },
      "outputs": [],
      "source": [
        "print(unsorted[0])\n",
        "print(unsorted[1])"
      ]
    },
    {
      "cell_type": "code",
      "execution_count": null,
      "id": "db367a04",
      "metadata": {
        "id": "db367a04"
      },
      "outputs": [],
      "source": [
        "unsorted[0]=1\n",
        "unsorted[1]=4\n",
        "print(unsorted)"
      ]
    },
    {
      "cell_type": "code",
      "execution_count": 17,
      "id": "03b9e4f4",
      "metadata": {
        "id": "03b9e4f4"
      },
      "outputs": [],
      "source": [
        "unsorted=[\"joaquim\", \"ilias\", \"sophia\", \"sofia\"]"
      ]
    },
    {
      "cell_type": "code",
      "execution_count": 18,
      "id": "4e993bb1",
      "metadata": {
        "colab": {
          "base_uri": "https://localhost:8080/"
        },
        "id": "4e993bb1",
        "outputId": "b5e87acc-0bcf-4c35-90b9-fa3fa6553cc3"
      },
      "outputs": [
        {
          "output_type": "stream",
          "name": "stdout",
          "text": [
            "the first name is  joaquim\n",
            "the second thing is  ilias\n",
            "is the first one less than the second one  False\n"
          ]
        }
      ],
      "source": [
        "print(\"the first name is \", unsorted[0])\n",
        "print(\"the second thing is \", unsorted[1])\n",
        "\n",
        "print(\"is the first one less than the second one \", unsorted[0]<unsorted[1])"
      ]
    },
    {
      "cell_type": "code",
      "source": [],
      "metadata": {
        "colab": {
          "base_uri": "https://localhost:8080/"
        },
        "id": "28lPXom4APnE",
        "outputId": "4839db2e-7ca1-4e30-d1c1-5242569e7fc7"
      },
      "id": "28lPXom4APnE",
      "execution_count": 20,
      "outputs": [
        {
          "output_type": "execute_result",
          "data": {
            "text/plain": [
              "False"
            ]
          },
          "metadata": {},
          "execution_count": 20
        }
      ]
    },
    {
      "cell_type": "code",
      "execution_count": null,
      "id": "6eb309d5",
      "metadata": {
        "id": "6eb309d5"
      },
      "outputs": [],
      "source": [
        "unsorted[0],  unsorted[1] = unsorted[1],  unsorted[0]"
      ]
    },
    {
      "cell_type": "code",
      "execution_count": null,
      "id": "e0325122",
      "metadata": {
        "id": "e0325122"
      },
      "outputs": [],
      "source": [
        "print(unsorted)"
      ]
    },
    {
      "cell_type": "code",
      "execution_count": null,
      "id": "ee82b81e",
      "metadata": {
        "id": "ee82b81e"
      },
      "outputs": [],
      "source": [
        "unsorted[2],  unsorted[3] = unsorted[3],  unsorted[2]"
      ]
    },
    {
      "cell_type": "code",
      "execution_count": null,
      "id": "8fe8d099",
      "metadata": {
        "id": "8fe8d099"
      },
      "outputs": [],
      "source": [
        "print(unsorted)"
      ]
    },
    {
      "cell_type": "code",
      "execution_count": null,
      "id": "7b7bedab",
      "metadata": {
        "id": "7b7bedab"
      },
      "outputs": [],
      "source": [
        "# that was hard-coded.  hard-coded means I typed the numbers\n",
        "\n",
        "\n",
        "\n",
        "numbers=['joaquim', 'ilias', 'sophia', 'sofia','kiril', 'gleb', 'artur']"
      ]
    },
    {
      "cell_type": "code",
      "execution_count": null,
      "id": "564d0634",
      "metadata": {
        "id": "564d0634"
      },
      "outputs": [],
      "source": [
        "# is this sorted?  which is the same as saying is this in alphabetical order\n",
        "\n",
        "'sofia' < 'artur' < 'c'\n"
      ]
    },
    {
      "cell_type": "code",
      "execution_count": 23,
      "id": "cfe45d2c",
      "metadata": {
        "id": "cfe45d2c"
      },
      "outputs": [],
      "source": [
        "numbers=['joaquim', 'ilias', 'sophia', 'sofia','kiril', 'gleb', 'artur']"
      ]
    },
    {
      "cell_type": "code",
      "execution_count": 29,
      "id": "c3837c41",
      "metadata": {
        "colab": {
          "base_uri": "https://localhost:8080/"
        },
        "id": "c3837c41",
        "outputId": "6902b479-46db-40d6-daf0-7b7ed43bd86f"
      },
      "outputs": [
        {
          "output_type": "stream",
          "name": "stdout",
          "text": [
            "['artur', 'gleb', 'ilias', 'joaquim', 'kiril', 'sofia', 'sophia']\n"
          ]
        }
      ],
      "source": [
        "for i in range(len(numbers)-1):\n",
        "    if(numbers[i]>numbers[i+1]):\n",
        "        numbers[i],numbers[i+1] = numbers[i+1],numbers[i]\n",
        "\n",
        "print(numbers)\n"
      ]
    },
    {
      "cell_type": "code",
      "execution_count": 32,
      "id": "23669d42",
      "metadata": {
        "colab": {
          "base_uri": "https://localhost:8080/"
        },
        "id": "23669d42",
        "outputId": "09b7e3d9-f369-4499-fffc-8ed8dbd49f24"
      },
      "outputs": [
        {
          "output_type": "stream",
          "name": "stdout",
          "text": [
            "0\n",
            "1\n",
            "2\n",
            "3\n",
            "4\n",
            "5\n"
          ]
        }
      ],
      "source": [
        "# so what we are doing is comparing every element in the list to every other element\n",
        "\n",
        "for i in range(len(numbers)-1):\n",
        "  print(i)"
      ]
    },
    {
      "cell_type": "code",
      "execution_count": null,
      "id": "1dd91a3a",
      "metadata": {
        "id": "1dd91a3a"
      },
      "outputs": [],
      "source": [
        "for i in range(len(numbers)-1):\n",
        "    if(numbers[i]>numbers[i+1]):\n",
        "        numbers[i],numbers[i+1] = numbers[i+1],numbers[i]"
      ]
    },
    {
      "cell_type": "code",
      "execution_count": null,
      "id": "b554c2de",
      "metadata": {
        "id": "b554c2de"
      },
      "outputs": [],
      "source": [
        "print(numbers)"
      ]
    },
    {
      "cell_type": "code",
      "execution_count": null,
      "id": "27ccf669",
      "metadata": {
        "id": "27ccf669"
      },
      "outputs": [],
      "source": [
        "for i in range(len(numbers)-1):\n",
        "    if(numbers[i]>numbers[i+1]):\n",
        "        numbers[i],numbers[i+1] = numbers[i+1],numbers[i]"
      ]
    },
    {
      "cell_type": "code",
      "execution_count": null,
      "id": "a50ffd68",
      "metadata": {
        "id": "a50ffd68"
      },
      "outputs": [],
      "source": [
        "print(numbers)"
      ]
    },
    {
      "cell_type": "code",
      "execution_count": null,
      "id": "6c3bce07",
      "metadata": {
        "id": "6c3bce07"
      },
      "outputs": [],
      "source": [
        "len(numbers)"
      ]
    },
    {
      "cell_type": "code",
      "execution_count": null,
      "id": "ee60e78b",
      "metadata": {
        "id": "ee60e78b"
      },
      "outputs": [],
      "source": [
        "for i in range(len(numbers)-1):\n",
        "    if(numbers[i]>numbers[i+1]):\n",
        "        numbers[i],numbers[i+1] = numbers[i+1],numbers[i]"
      ]
    },
    {
      "cell_type": "code",
      "execution_count": null,
      "id": "9223c2e6",
      "metadata": {
        "id": "9223c2e6"
      },
      "outputs": [],
      "source": [
        "print(numbers)"
      ]
    },
    {
      "cell_type": "code",
      "execution_count": null,
      "id": "ce70ed68",
      "metadata": {
        "id": "ce70ed68"
      },
      "outputs": [],
      "source": [
        "for i in range(len(numbers)-1):\n",
        "    if(numbers[i]>numbers[i+1]):\n",
        "        numbers[i],numbers[i+1] = numbers[i+1],numbers[i]"
      ]
    },
    {
      "cell_type": "code",
      "execution_count": null,
      "id": "d3ccd68b",
      "metadata": {
        "id": "d3ccd68b"
      },
      "outputs": [],
      "source": [
        "print(numbers)"
      ]
    },
    {
      "cell_type": "code",
      "execution_count": null,
      "id": "10dbfb43",
      "metadata": {
        "id": "10dbfb43"
      },
      "outputs": [],
      "source": [
        "for i in range(len(numbers)-1):\n",
        "    if(numbers[i]>numbers[i+1]):\n",
        "        numbers[i],numbers[i+1] = numbers[i+1],numbers[i]"
      ]
    },
    {
      "cell_type": "code",
      "execution_count": null,
      "id": "76724fe9",
      "metadata": {
        "id": "76724fe9"
      },
      "outputs": [],
      "source": [
        "print(numbers)"
      ]
    },
    {
      "cell_type": "code",
      "execution_count": 33,
      "id": "903c4752",
      "metadata": {
        "colab": {
          "base_uri": "https://localhost:8080/"
        },
        "id": "903c4752",
        "outputId": "55bd7edd-466f-4519-e43f-5883a7d2163f"
      },
      "outputs": [
        {
          "output_type": "stream",
          "name": "stdout",
          "text": [
            "0 0\n",
            "1 0\n",
            "2 0\n",
            "3 0\n",
            "4 0\n",
            "5 0\n",
            "0 1\n",
            "1 1\n",
            "2 1\n",
            "3 1\n",
            "4 1\n",
            "5 1\n",
            "0 2\n",
            "1 2\n",
            "2 2\n",
            "3 2\n",
            "4 2\n",
            "5 2\n",
            "0 3\n",
            "1 3\n",
            "2 3\n",
            "3 3\n",
            "4 3\n",
            "5 3\n",
            "0 4\n",
            "1 4\n",
            "2 4\n",
            "3 4\n",
            "4 4\n",
            "5 4\n",
            "0 5\n",
            "1 5\n",
            "2 5\n",
            "3 5\n",
            "4 5\n",
            "5 5\n",
            "0 6\n",
            "1 6\n",
            "2 6\n",
            "3 6\n",
            "4 6\n",
            "5 6\n"
          ]
        }
      ],
      "source": [
        "for j in range(len(numbers)):\n",
        "    for i in range(len(numbers)-1):\n",
        "      print(i,j)"
      ]
    },
    {
      "cell_type": "code",
      "execution_count": 34,
      "id": "5b8ae863",
      "metadata": {
        "colab": {
          "base_uri": "https://localhost:8080/"
        },
        "id": "5b8ae863",
        "outputId": "972c5080-c2de-45a5-bea1-9088b45db641"
      },
      "outputs": [
        {
          "output_type": "stream",
          "name": "stdout",
          "text": [
            "['artur', 'gleb', 'ilias', 'joaquim', 'kiril', 'sofia', 'sophia']\n"
          ]
        }
      ],
      "source": [
        "'''\n",
        "Lika see if you can understand this.\n",
        "\n",
        "We have compare every element in the the list to every other element\n",
        "\n",
        "That means start at the first element then compare to 2nd, 3rd, 4th, and swap\n",
        "\n",
        "positions if they are out of order\n",
        "\n",
        "\n",
        "Then do it gain\n",
        "\n",
        "5 x 5 operation = 25 comparisons\n",
        "\n",
        "'''\n",
        "\n",
        "\n",
        "numbers=['joaquim', 'ilias', 'sophia', 'sofia','kiril', 'gleb', 'artur']\n",
        "\n",
        "for j in range(len(numbers)):\n",
        "    for i in range(len(numbers)-1):\n",
        "        if(numbers[i]>numbers[i+1]):\n",
        "            numbers[i],numbers[i+1] = numbers[i+1],numbers[i]\n",
        "            \n",
        "print(numbers)            "
      ]
    },
    {
      "cell_type": "code",
      "source": [
        "a,b = 3,4"
      ],
      "metadata": {
        "id": "rNMWrEXSBz6c"
      },
      "id": "rNMWrEXSBz6c",
      "execution_count": null,
      "outputs": []
    },
    {
      "cell_type": "code",
      "execution_count": null,
      "id": "c01d05a2",
      "metadata": {
        "id": "c01d05a2"
      },
      "outputs": [],
      "source": [
        "'''\n",
        "to sort a list you have to compare every item in the list with every other other item\n",
        "\n",
        "is we have numbers = (4,3,1)\n",
        "\n",
        "and compare 4 to 3\n",
        "\n",
        "and then we switch 4 and 3\n",
        "\n",
        "(3,4,1)\n",
        "\n",
        "the 1 is not sorted\n",
        "\n",
        "\n",
        "3*3 = 9 comparisons\n",
        "\n",
        "\n",
        "\n",
        "\n",
        "'''\n",
        "\n",
        "\n",
        "# this is called a nested loop\n",
        "\n",
        "# we run the outside loop j 5 times\n",
        "\n",
        "# every time we run j we run the inside loop also times\n",
        "\n",
        "# so the logic at the bottom runs 5 x 5 = 25 times\n",
        "\n",
        "\n",
        "\n",
        "for j in range(len(numbers)):\n",
        "    for i in range(len(numbers)-1):\n",
        "        print((\"comparing i=%s and j=%s\") % (i,j))\n",
        "\n",
        "\n"
      ]
    },
    {
      "cell_type": "code",
      "execution_count": null,
      "id": "61f4f1cd",
      "metadata": {
        "id": "61f4f1cd"
      },
      "outputs": [],
      "source": []
    },
    {
      "cell_type": "code",
      "execution_count": null,
      "id": "9f6047e5",
      "metadata": {
        "id": "9f6047e5"
      },
      "outputs": [],
      "source": []
    },
    {
      "cell_type": "code",
      "execution_count": null,
      "id": "d36bd664",
      "metadata": {
        "id": "d36bd664"
      },
      "outputs": [],
      "source": [
        "'''\n",
        "[4,1,3,2]\n",
        "\n",
        "4<1\n",
        "\n",
        "no\n",
        "\n",
        "so swap them\n",
        "\n",
        "is 1<3 no\n",
        "\n",
        "so swap them\n",
        "\n",
        "get a pencil and paper and write it down or type it to understand\n",
        "\n",
        "this\n",
        "\n",
        "'''\n",
        " "
      ]
    },
    {
      "cell_type": "code",
      "execution_count": 7,
      "id": "a208b2c4",
      "metadata": {
        "colab": {
          "base_uri": "https://localhost:8080/"
        },
        "id": "a208b2c4",
        "outputId": "112e2592-890a-4fb1-bda8-198fe79726a1"
      },
      "outputs": [
        {
          "output_type": "stream",
          "name": "stdout",
          "text": [
            "unsorted\n",
            "[77, 49, 22, 66, 55, 73, 15, 17, 88, 70, 15, 48, 63, 50, 36, 45, 36, 15, 57, 49, 87, 55, 49, 26, 23, 21, 55, 11, 56, 47, 16, 35, 35, 93, 6, 13, 47, 62, 84, 12, 6, 5, 52, 72, 48, 7, 80, 40, 23, 7, 95, 74, 5, 5, 67, 69, 15, 65, 73, 41, 30, 6, 25, 49, 11, 30, 3, 78, 95, 79, 2, 5, 65, 9, 13, 64, 97, 39, 24, 15, 85, 37, 67, 23, 17, 42, 12, 33, 87, 56, 91, 73, 32, 43, 91, 76, 88, 65, 5, 14]\n"
          ]
        }
      ],
      "source": [
        "# a list\n",
        "numbers=[]\n",
        "\n",
        "# difference between a list and a set() is a set does not allow duplicate numbers\n",
        "\n",
        "for i in range(100):\n",
        "  numbers.append(random.randint(1,100))\n",
        "\n",
        "print(\"unsorted\")\n",
        "print(numbers)\n",
        "\n",
        "\n",
        " "
      ]
    },
    {
      "cell_type": "code",
      "source": [
        "print(\"sorted\")\n",
        "for j in range(len(numbers)):\n",
        "    for i in range(len(numbers)-1):\n",
        "        if(numbers[i]>numbers[i+1]):\n",
        "            numbers[i],numbers[i+1] = numbers[i+1],numbers[i]\n",
        "            \n",
        "print(numbers)     \n"
      ],
      "metadata": {
        "colab": {
          "base_uri": "https://localhost:8080/"
        },
        "id": "lSvwNl8c-jiP",
        "outputId": "b55a27ce-ae50-43b9-92da-ab3ca3206c42"
      },
      "id": "lSvwNl8c-jiP",
      "execution_count": 8,
      "outputs": [
        {
          "output_type": "stream",
          "name": "stdout",
          "text": [
            "sorted\n",
            "[2, 3, 5, 5, 5, 5, 5, 6, 6, 6, 7, 7, 9, 11, 11, 12, 12, 13, 13, 14, 15, 15, 15, 15, 15, 16, 17, 17, 21, 22, 23, 23, 23, 24, 25, 26, 30, 30, 32, 33, 35, 35, 36, 36, 37, 39, 40, 41, 42, 43, 45, 47, 47, 48, 48, 49, 49, 49, 49, 50, 52, 55, 55, 55, 56, 56, 57, 62, 63, 64, 65, 65, 65, 66, 67, 67, 69, 70, 72, 73, 73, 73, 74, 76, 77, 78, 79, 80, 84, 85, 87, 87, 88, 88, 91, 91, 93, 95, 95, 97]\n"
          ]
        }
      ]
    },
    {
      "cell_type": "code",
      "execution_count": null,
      "id": "7f20e397",
      "metadata": {
        "id": "7f20e397"
      },
      "outputs": [],
      "source": []
    }
  ],
  "metadata": {
    "kernelspec": {
      "display_name": "Python 3 (ipykernel)",
      "language": "python",
      "name": "python3"
    },
    "language_info": {
      "codemirror_mode": {
        "name": "ipython",
        "version": 3
      },
      "file_extension": ".py",
      "mimetype": "text/x-python",
      "name": "python",
      "nbconvert_exporter": "python",
      "pygments_lexer": "ipython3",
      "version": "3.10.9"
    },
    "colab": {
      "provenance": [],
      "include_colab_link": true
    }
  },
  "nbformat": 4,
  "nbformat_minor": 5
}
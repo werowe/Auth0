{
  "nbformat": 4,
  "nbformat_minor": 0,
  "metadata": {
    "colab": {
      "provenance": [],
      "authorship_tag": "ABX9TyNRA10YZMrCN9dCiGmdth0N",
      "include_colab_link": true
    },
    "kernelspec": {
      "name": "python3",
      "display_name": "Python 3"
    },
    "language_info": {
      "name": "python"
    },
    "accelerator": "GPU",
    "gpuClass": "standard"
  },
  "cells": [
    {
      "cell_type": "markdown",
      "metadata": {
        "id": "view-in-github",
        "colab_type": "text"
      },
      "source": [
        "<a href=\"https://colab.research.google.com/github/werowe/Auth0/blob/main/games/cuda.ipynb\" target=\"_parent\"><img src=\"https://colab.research.google.com/assets/colab-badge.svg\" alt=\"Open In Colab\"/></a>"
      ]
    },
    {
      "cell_type": "code",
      "execution_count": null,
      "metadata": {
        "colab": {
          "base_uri": "https://localhost:8080/"
        },
        "id": "17zt2TF1NCe6",
        "outputId": "6c68d18b-02d5-46f4-b4cb-fcb830776da0"
      },
      "outputs": [
        {
          "output_type": "stream",
          "name": "stdout",
          "text": [
            "[[2. 2. 2. ... 2. 2. 2.]\n",
            " [2. 2. 2. ... 2. 2. 2.]\n",
            " [2. 2. 2. ... 2. 2. 2.]\n",
            " ...\n",
            " [2. 2. 2. ... 2. 2. 2.]\n",
            " [2. 2. 2. ... 2. 2. 2.]\n",
            " [2. 2. 2. ... 2. 2. 2.]]\n"
          ]
        },
        {
          "output_type": "stream",
          "name": "stderr",
          "text": [
            "/usr/local/lib/python3.10/dist-packages/numba/cuda/dispatcher.py:488: NumbaPerformanceWarning: Grid size 98 will likely result in GPU under-utilization due to low occupancy.\n",
            "  warn(NumbaPerformanceWarning(msg))\n"
          ]
        }
      ],
      "source": [
        "import numpy as np\n",
        "from numba import vectorize\n",
        "\n",
        "@vectorize(['float32(float32, float32)'], target='cuda')\n",
        "def Add(a, b):\n",
        "  return a + b\n",
        "\n",
        "# Initialize arrays\n",
        "N = [10000,10]\n",
        "A = np.ones(N, dtype=np.float32)\n",
        "B = np.ones(A.shape, dtype=A.dtype)\n",
        "C = np.empty_like(A, dtype=A.dtype)\n",
        "\n",
        "# Add arrays on GPU\n",
        "C = Add(A, B)\n",
        "print(C)"
      ]
    },
    {
      "cell_type": "code",
      "source": [
        "# https://stackoverflow.com/questions/63176971/filling-out-numpy-array-in-parallel"
      ],
      "metadata": {
        "id": "TqtRjRBbNbCb"
      },
      "execution_count": null,
      "outputs": []
    },
    {
      "cell_type": "code",
      "source": [
        "C.shape"
      ],
      "metadata": {
        "id": "0f-mKNfwTcMe"
      },
      "execution_count": null,
      "outputs": []
    },
    {
      "cell_type": "code",
      "source": [
        "#works\n",
        "\n",
        "import numpy as np\n",
        "from numba import vectorize\n",
        "\n",
        "@vectorize([\"float32(float32, float32)\"], target='cuda')\n",
        "def f(a,b):\n",
        "\n",
        "  for i in range(10000):\n",
        "    a=b\n",
        "    \n",
        "  return b\n",
        "\n",
        "\n",
        "a = np.zeros((10000,10), dtype=np.float32)\n",
        "b = np.zeros((10000,10), dtype=np.float32)\n",
        "\n",
        "f(a,b)"
      ],
      "metadata": {
        "colab": {
          "base_uri": "https://localhost:8080/"
        },
        "id": "3LTndR37TGv0",
        "outputId": "b6011172-f448-4416-e9b5-611c88d22336"
      },
      "execution_count": 16,
      "outputs": [
        {
          "output_type": "stream",
          "name": "stderr",
          "text": [
            "/usr/local/lib/python3.10/dist-packages/numba/cuda/dispatcher.py:488: NumbaPerformanceWarning: Grid size 98 will likely result in GPU under-utilization due to low occupancy.\n",
            "  warn(NumbaPerformanceWarning(msg))\n"
          ]
        },
        {
          "output_type": "execute_result",
          "data": {
            "text/plain": [
              "array([[0., 0., 0., ..., 0., 0., 0.],\n",
              "       [0., 0., 0., ..., 0., 0., 0.],\n",
              "       [0., 0., 0., ..., 0., 0., 0.],\n",
              "       ...,\n",
              "       [0., 0., 0., ..., 0., 0., 0.],\n",
              "       [0., 0., 0., ..., 0., 0., 0.],\n",
              "       [0., 0., 0., ..., 0., 0., 0.]], dtype=float32)"
            ]
          },
          "metadata": {},
          "execution_count": 16
        }
      ]
    },
    {
      "cell_type": "code",
      "source": [
        "import numpy as np\n",
        "from numba import vectorize\n",
        "\n",
        "@vectorize([\"void(float32, float32)\"], target='cuda')\n",
        "def f(a,b):\n",
        "\n",
        "  for i in range(10000):\n",
        "    a=4*b\n",
        "  return b\n",
        "\n",
        "\n",
        "a = np.ones((10000,10), dtype=np.float32)\n",
        "b = np.random.rand(10000,10).astype('f')\n",
        "\n",
        "f(a,b)"
      ],
      "metadata": {
        "colab": {
          "base_uri": "https://localhost:8080/"
        },
        "id": "aYJx53gmZSWS",
        "outputId": "4a410329-ecbe-4006-b743-f33998eab9df"
      },
      "execution_count": 54,
      "outputs": [
        {
          "output_type": "stream",
          "name": "stderr",
          "text": [
            "/usr/local/lib/python3.10/dist-packages/numba/cuda/dispatcher.py:488: NumbaPerformanceWarning: Grid size 98 will likely result in GPU under-utilization due to low occupancy.\n",
            "  warn(NumbaPerformanceWarning(msg))\n"
          ]
        },
        {
          "output_type": "execute_result",
          "data": {
            "text/plain": [
              "array([[0.17187412, 0.638744  , 0.9411341 , ..., 0.9963005 , 0.38301   ,\n",
              "        0.1056145 ],\n",
              "       [0.8587181 , 0.7049687 , 0.3086888 , ..., 0.7010578 , 0.48395935,\n",
              "        0.9546782 ],\n",
              "       [0.60322917, 0.6282003 , 0.7860869 , ..., 0.46414292, 0.641431  ,\n",
              "        0.5890902 ],\n",
              "       ...,\n",
              "       [0.25970846, 0.91552156, 0.59626096, ..., 0.2289193 , 0.00695293,\n",
              "        0.180941  ],\n",
              "       [0.6803259 , 0.6008099 , 0.86902815, ..., 0.6271602 , 0.22071159,\n",
              "        0.16530712],\n",
              "       [0.26526394, 0.06113506, 0.39858928, ..., 0.62779665, 0.44882658,\n",
              "        0.03787582]], dtype=float32)"
            ]
          },
          "metadata": {},
          "execution_count": 54
        }
      ]
    },
    {
      "cell_type": "code",
      "source": [
        "a[1].shape"
      ],
      "metadata": {
        "colab": {
          "base_uri": "https://localhost:8080/"
        },
        "id": "_q_CcvHwbvqj",
        "outputId": "2bf584d6-5777-4f59-8b00-e4a23c425ce1"
      },
      "execution_count": 45,
      "outputs": [
        {
          "output_type": "execute_result",
          "data": {
            "text/plain": [
              "(10,)"
            ]
          },
          "metadata": {},
          "execution_count": 45
        }
      ]
    }
  ]
}